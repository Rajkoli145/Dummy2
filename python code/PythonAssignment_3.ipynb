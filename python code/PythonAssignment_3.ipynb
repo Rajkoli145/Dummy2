{
 "cells": [
  {
   "cell_type": "markdown",
   "metadata": {},
   "source": [
    "## OOP\n"
   ]
  },
  {
   "cell_type": "markdown",
   "metadata": {},
   "source": [
    "Q1. Create a person class with:\n",
    "i) two instance variable: name, age.\n",
    "ii) Create a parameterized constructor\n",
    "Create a student class. Inherit person class in Student class.\n",
    "Student class have:\n",
    "i) instance variable: rollno and stream.\n",
    "ii) Create a parameterized constructor to initialize all instance variables of\n",
    "student class as well as Person class\n",
    "iii)Instance method: display() to print name, age, rollno and stream\n",
    "Create an object of Student class and call display method"
   ]
  },
  {
   "cell_type": "markdown",
   "metadata": {},
   "source": [
    "Q2. Write a Python class named Circle. Declare an instance variable, radius and two methods that will compute the area and the perimeter of a circle."
   ]
  },
  {
   "cell_type": "markdown",
   "metadata": {},
   "source": [
    "Q3. Write a Python program to create a calculator class. Include methods for basic arithmetic operations."
   ]
  },
  {
   "cell_type": "markdown",
   "metadata": {},
   "source": [
    "Q4. Write a Python program to create a class representing a shopping cart. Include methods for adding and removing items, and calculating the total price. "
   ]
  },
  {
   "cell_type": "markdown",
   "metadata": {},
   "source": [
    "Q5.5. Write a Python class Employee with attributes like emp_id, emp_name,\n",
    "emp_salary, and emp_department and methods like calculate_emp_salary,\n",
    "emp_assign_department, and print_employee_details.\n",
    "Sample Employee Data:\n",
    "\"ADAMS\", \"E7876\", 50000, \"ACCOUNTING\"\n",
    "\"JONES\", \"E7499\", 45000, \"RESEARCH\"\n",
    "\"MARTIN\", \"E7900\", 50000, \"SALES\"\n",
    "\"SMITH\", \"E7698\", 55000, \"OPERATIONS\"\n",
    "\n",
    "• Use 'assign_department' method to change the department of an\n",
    "employee.\n",
    "• Use 'print_employee_details' method to print the details of an\n",
    "employee.\n",
    "• Use 'calculate_emp_salary' method takes two arguments: salary and\n",
    "hours_worked, which is the number of hours worked by the employee.\n",
    "If the number of hours worked is more than 50, the method computes\n",
    "overtime and adds it to the salary. Overtime is calculated as following\n",
    "formula:\n",
    "• overtime = hours_worked - 50\n",
    "Overtime amount = (overtime * (salary / 50))"
   ]
  },
  {
   "cell_type": "markdown",
   "metadata": {},
   "source": [
    "Q6. Write a Python class BankAccount with attributes like account_number,balance, date_of_opening and customer_name, and methods like deposit, withdraw, and check_balance."
   ]
  },
  {
   "cell_type": "markdown",
   "metadata": {},
   "source": [
    "Q7.Create a class hierarchy for different types of geometric shapes, including\n",
    "circles, rectangles, and triangles, using inheritance.\n",
    "Tasks:\n",
    "A. Define a base class called Shape with common attributes\n",
    "like colour and area.\n",
    "B. Implement subclasses for specific shape types such\n",
    "as Circle, Rectangle, and Triangle. Each subclass should inherit\n",
    "from the Shape class.\n",
    "C. Incorporate additional attributes and methods specific to each\n",
    "shape type. For example, a Circle class might have attributes\n",
    "like radius and methods like calculate_area.\n",
    "D. Use inheritance to create subclasses representing variations within\n",
    "each shape type. For example, within the Rectangle class, create\n",
    "subclasses for Square and Parallelogram.\n",
    "E. Implement methods or attributes in the subclasses to demonstrate\n",
    "how inheritance allows for the sharing of attributes and methods\n",
    "from parent classes.\n",
    "F. Create instances of the various shape classes and test their\n",
    "functionality to ensure that attributes and methods work as\n",
    "expected."
   ]
  },
  {
   "cell_type": "markdown",
   "metadata": {},
   "source": [
    "## File Handling"
   ]
  },
  {
   "cell_type": "markdown",
   "metadata": {},
   "source": [
    "Q8. WAP to find the number of words in the given text file\n",
    "Hints:\n",
    "Use the split() method to separate words."
   ]
  },
  {
   "cell_type": "markdown",
   "metadata": {},
   "source": [
    "Q9. Write a program to write “Happy Programming” in a text file and read it"
   ]
  },
  {
   "cell_type": "markdown",
   "metadata": {},
   "source": [
    "Q10.WAP to demonstrate the working of the following functions:\n",
    "i) read()\n",
    "ii) read(n)\n",
    "iii)readline()\n",
    "iv) readlines()"
   ]
  },
  {
   "cell_type": "markdown",
   "metadata": {},
   "source": [
    "Q11.WAP that exhibits the working of the following functions:\n",
    "i. write()\n",
    "ii. writelines()"
   ]
  },
  {
   "cell_type": "markdown",
   "metadata": {},
   "source": [
    "Q12.Write a Python program to read first n lines of a file."
   ]
  },
  {
   "cell_type": "markdown",
   "metadata": {},
   "source": [
    "Q13.Write a Python program to append text to a file and display the text."
   ]
  },
  {
   "cell_type": "markdown",
   "metadata": {},
   "source": [
    "Q14. Write a Python program to read last n lines of a file."
   ]
  },
  {
   "cell_type": "markdown",
   "metadata": {},
   "source": [
    "Q15.Write a Python program to read a file line by line and store it into a list."
   ]
  },
  {
   "cell_type": "markdown",
   "metadata": {},
   "source": [
    "## Exception Handling"
   ]
  },
  {
   "cell_type": "markdown",
   "metadata": {},
   "source": [
    "Q16.Write a program to exhibit these concepts:\n",
    "\n",
    "i. try\n",
    "ii. except\n",
    "iii. finally"
   ]
  },
  {
   "cell_type": "markdown",
   "metadata": {},
   "source": [
    "Q17.Write a Python program to handle a ZeroDivisionError exception when\n",
    "dividing a number by zero."
   ]
  },
  {
   "cell_type": "markdown",
   "metadata": {},
   "source": [
    "Q18.Write a Python program that prompts the user to input an integer and raises a\n",
    "ValueError exception if the input is not a valid integer."
   ]
  },
  {
   "cell_type": "markdown",
   "metadata": {},
   "source": [
    "Q19.WAP that exhibits multiple except blocks along with default block"
   ]
  },
  {
   "cell_type": "markdown",
   "metadata": {},
   "source": [
    "Q20.WAP that exhibits except blocks that can catch multiple exceptions."
   ]
  },
  {
   "cell_type": "markdown",
   "metadata": {},
   "source": [
    "## Lambda"
   ]
  },
  {
   "cell_type": "markdown",
   "metadata": {},
   "source": [
    "Q21.WAP to demonstrate how to use lambda in map() function."
   ]
  },
  {
   "cell_type": "markdown",
   "metadata": {},
   "source": [
    "Q22.WAP to demonstrate how to use lambda in filter() function."
   ]
  },
  {
   "cell_type": "markdown",
   "metadata": {},
   "source": [
    "Q23.Write a Python program to filter a list of integers into list of even numbers\n",
    "and list of odd numbers using Lambda. [Hint: use lambda in filter() ] "
   ]
  },
  {
   "cell_type": "markdown",
   "metadata": {},
   "source": [
    "Q24.Write a Python program to square and cube every number in a given list of\n",
    "integers using Lambda. [Hint: use lambda in map() ]."
   ]
  },
  {
   "cell_type": "markdown",
   "metadata": {},
   "source": [
    "Q25.Write a Python program to create a lambda function that adds 15 to a given\n",
    "number passed in as an argument."
   ]
  },
  {
   "cell_type": "markdown",
   "metadata": {},
   "source": [
    "Q26.Create a lambda function that multiplies argument x with argument y and\n",
    "prints the result.\n",
    "\n"
   ]
  },
  {
   "cell_type": "markdown",
   "metadata": {},
   "source": []
  }
 ],
 "metadata": {
  "kernelspec": {
   "display_name": "Python 3",
   "language": "python",
   "name": "python3"
  },
  "language_info": {
   "name": "python",
   "version": "3.13.0"
  }
 },
 "nbformat": 4,
 "nbformat_minor": 2
}
