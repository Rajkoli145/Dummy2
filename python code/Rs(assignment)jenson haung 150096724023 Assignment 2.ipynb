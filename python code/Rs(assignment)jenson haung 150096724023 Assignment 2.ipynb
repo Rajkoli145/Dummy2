{
 "cells": [
  {
   "cell_type": "markdown",
   "metadata": {},
   "source": [
    "Functions and Modules :\n"
   ]
  },
  {
   "cell_type": "markdown",
   "metadata": {},
   "source": [
    "1. Write a Python function that accepts a string and counts the number of upper and lower\n",
    "case letters.\n",
    "Sample String : 'The quick Brow Fox'\n",
    "Expected Output :\n",
    "No. of Upper case characters : 3\n",
    "No. of Lower case Characters : 12\n"
   ]
  },
  {
   "cell_type": "markdown",
   "metadata": {},
   "source": [
    "1. Count Upper and Lower Case Letters"
   ]
  },
  {
   "cell_type": "code",
   "execution_count": 1,
   "metadata": {},
   "outputs": [
    {
     "name": "stdout",
     "output_type": "stream",
     "text": [
      "No. of Upper case characters: 3\n",
      "No. of Lower case Characters: 12\n"
     ]
    }
   ],
   "source": [
    "def count_case(s):\n",
    "    upper_count = sum(1 for c in s if c.isupper())\n",
    "    lower_count = sum(1 for c in s if c.islower())\n",
    "    return upper_count, lower_count\n",
    "\n",
    "sample_string = 'The quick Brow Fox'\n",
    "upper, lower = count_case(sample_string)\n",
    "print(f'No. of Upper case characters: {upper}')\n",
    "print(f'No. of Lower case Characters: {lower}')\n"
   ]
  },
  {
   "cell_type": "markdown",
   "metadata": {},
   "source": [
    "2. Return Unique Elements from a List"
   ]
  },
  {
   "cell_type": "code",
   "execution_count": 2,
   "metadata": {},
   "outputs": [
    {
     "name": "stdout",
     "output_type": "stream",
     "text": [
      "Unique List: [1, 2, 3, 4, 5]\n"
     ]
    }
   ],
   "source": [
    "def unique_list(lst):\n",
    "    return list(set(lst))\n",
    "\n",
    "sample_list = [1, 2, 3, 3, 3, 3, 4, 5]\n",
    "print('Unique List:', unique_list(sample_list))\n"
   ]
  },
  {
   "cell_type": "markdown",
   "metadata": {},
   "source": [
    "3. Check for Perfect Number"
   ]
  },
  {
   "cell_type": "code",
   "execution_count": 3,
   "metadata": {},
   "outputs": [
    {
     "name": "stdout",
     "output_type": "stream",
     "text": [
      "True\n",
      "True\n"
     ]
    }
   ],
   "source": [
    "def is_perfect_number(n):\n",
    "    if n < 1:\n",
    "        return False\n",
    "    divisors_sum = sum(i for i in range(1, n) if n % i == 0)\n",
    "    return divisors_sum == n\n",
    "\n",
    "# Test\n",
    "print(is_perfect_number(6))  # True\n",
    "print(is_perfect_number(28)) # True\n"
   ]
  },
  {
   "cell_type": "markdown",
   "metadata": {},
   "source": [
    "4. Sort Hyphen-Separated Words"
   ]
  },
  {
   "cell_type": "code",
   "execution_count": 4,
   "metadata": {},
   "outputs": [
    {
     "name": "stdout",
     "output_type": "stream",
     "text": [
      "black-green-red-white-yellow\n"
     ]
    }
   ],
   "source": [
    "def sort_hyphenated_words(s):\n",
    "    words = s.split('-')\n",
    "    words.sort()\n",
    "    return '-'.join(words)\n",
    "\n",
    "input_string = 'green-red-yellow-black-white'\n",
    "print(sort_hyphenated_words(input_string))\n"
   ]
  },
  {
   "cell_type": "markdown",
   "metadata": {},
   "source": [
    "5. Positional Argument in Functions"
   ]
  },
  {
   "cell_type": "code",
   "execution_count": 5,
   "metadata": {},
   "outputs": [
    {
     "name": "stdout",
     "output_type": "stream",
     "text": [
      "Hello, Alice!\n"
     ]
    }
   ],
   "source": [
    "def greet(name):\n",
    "    print(f'Hello, {name}!')\n",
    "\n",
    "greet('Alice')\n"
   ]
  },
  {
   "cell_type": "markdown",
   "metadata": {},
   "source": [
    "6. Keyword Argument in Functions"
   ]
  },
  {
   "cell_type": "code",
   "execution_count": 6,
   "metadata": {},
   "outputs": [
    {
     "name": "stdout",
     "output_type": "stream",
     "text": [
      "Hello, Guest!\n",
      "Hello, Bob!\n"
     ]
    }
   ],
   "source": [
    "def greet(name='Guest'):\n",
    "    print(f'Hello, {name}!')\n",
    "\n",
    "greet()  # Hello, Guest!\n",
    "greet(name='Bob')  # Hello, Bob!\n"
   ]
  },
  {
   "cell_type": "markdown",
   "metadata": {},
   "source": [
    "7. Positional and Keyword Arguments\n"
   ]
  },
  {
   "cell_type": "code",
   "execution_count": 7,
   "metadata": {},
   "outputs": [
    {
     "name": "stdout",
     "output_type": "stream",
     "text": [
      "Hello, Alice! Welcome!\n",
      "Hello, Bob! Good to see you!\n"
     ]
    }
   ],
   "source": [
    "def greet(name, message='Welcome!'):\n",
    "    print(f'Hello, {name}! {message}')\n",
    "\n",
    "greet('Alice')  # Default message\n",
    "greet('Bob', 'Good to see you!')  # Custom message\n"
   ]
  },
  {
   "cell_type": "markdown",
   "metadata": {},
   "source": [
    "8. Default Argument in Functions"
   ]
  },
  {
   "cell_type": "code",
   "execution_count": 8,
   "metadata": {},
   "outputs": [
    {
     "name": "stdout",
     "output_type": "stream",
     "text": [
      "9\n",
      "27\n"
     ]
    }
   ],
   "source": [
    "def power(base, exp=2):\n",
    "    return base ** exp\n",
    "\n",
    "print(power(3))    # 9\n",
    "print(power(3, 3)) # 27\n"
   ]
  },
  {
   "cell_type": "markdown",
   "metadata": {},
   "source": [
    "9. Variable Length Arguments"
   ]
  },
  {
   "cell_type": "code",
   "execution_count": 9,
   "metadata": {},
   "outputs": [
    {
     "name": "stdout",
     "output_type": "stream",
     "text": [
      "10\n"
     ]
    }
   ],
   "source": [
    "def add_numbers(*args):\n",
    "    return sum(args)\n",
    "\n",
    "print(add_numbers(1, 2, 3, 4))  # 10\n"
   ]
  },
  {
   "cell_type": "markdown",
   "metadata": {},
   "source": [
    "10. Variable Length Keyword Arguments"
   ]
  },
  {
   "cell_type": "code",
   "execution_count": 10,
   "metadata": {},
   "outputs": [
    {
     "name": "stdout",
     "output_type": "stream",
     "text": [
      "name: Alice\n",
      "age: 25\n"
     ]
    }
   ],
   "source": [
    "def print_info(**kwargs):\n",
    "    for key, value in kwargs.items():\n",
    "        print(f'{key}: {value}')\n",
    "\n",
    "print_info(name='Alice', age=25)\n"
   ]
  },
  {
   "cell_type": "markdown",
   "metadata": {},
   "source": [
    "11. Create and Import a Module"
   ]
  },
  {
   "cell_type": "code",
   "execution_count": 13,
   "metadata": {},
   "outputs": [],
   "source": [
    "# math_operations.py (Create this in your project directory)\n",
    "def add(x, y):\n",
    "    return x + y\n",
    "\n",
    "def subtract(x, y):\n",
    "    return x - y\n"
   ]
  },
  {
   "cell_type": "markdown",
   "metadata": {},
   "source": [
    "# In your main script"
   ]
  },
  {
   "cell_type": "markdown",
   "metadata": {},
   "source": [
    "12. Demonstrate Math Module Functions"
   ]
  },
  {
   "cell_type": "code",
   "execution_count": 15,
   "metadata": {},
   "outputs": [
    {
     "name": "stdout",
     "output_type": "stream",
     "text": [
      "5\n",
      "4\n",
      "4\n",
      "120\n",
      "4.5\n",
      "8.0\n",
      "1.0\n",
      "6.0\n",
      "6\n",
      "4.0\n"
     ]
    }
   ],
   "source": [
    "import math\n",
    "\n",
    "print(math.ceil(4.2))        # 5\n",
    "print(math.trunc(4.9))       # 4\n",
    "print(math.floor(4.8))       # 4\n",
    "print(math.factorial(5))     # 120\n",
    "print(math.fabs(-4.5))       # 4.5\n",
    "print(math.pow(2, 3))        # 8\n",
    "print(math.fmod(5, 2))       # 1.0\n",
    "print(math.fsum([1, 2, 3]))  # 6.0\n",
    "print(math.prod([1, 2, 3]))  # 6\n",
    "print(math.sqrt(16))         # 4.0\n"
   ]
  },
  {
   "cell_type": "markdown",
   "metadata": {},
   "source": [
    "13. Demonstrate Random Module Functions\n"
   ]
  },
  {
   "cell_type": "code",
   "execution_count": 16,
   "metadata": {},
   "outputs": [
    {
     "name": "stdout",
     "output_type": "stream",
     "text": [
      "0.5048590017100103\n",
      "8\n",
      "5.726600177619028\n",
      "3\n",
      "[3, 1, 5, 4, 2]\n",
      "5\n"
     ]
    }
   ],
   "source": [
    "import random\n",
    "\n",
    "print(random.random())            # Random float [0.0, 1.0)\n",
    "print(random.randint(1, 10))      # Random integer between 1 and 10\n",
    "print(random.uniform(1, 10))      # Random float between 1 and 10\n",
    "print(random.choice([1, 2, 3, 4])) # Randomly choose from a list\n",
    "lst = [1, 2, 3, 4, 5]\n",
    "random.shuffle(lst)              # Shuffle the list\n",
    "print(lst)\n",
    "print(random.randrange(1, 10))   # Random integer from range\n"
   ]
  },
  {
   "cell_type": "markdown",
   "metadata": {},
   "source": [
    "14. Remove Duplicates from a List"
   ]
  },
  {
   "cell_type": "code",
   "execution_count": 17,
   "metadata": {},
   "outputs": [
    {
     "name": "stdout",
     "output_type": "stream",
     "text": [
      "[1, 2, 3, 4]\n"
     ]
    }
   ],
   "source": [
    "def remove_duplicates(lst):\n",
    "    return list(set(lst))\n",
    "\n",
    "sample_list = [1, 2, 2, 3, 4, 4]\n",
    "print(remove_duplicates(sample_list))  # [1, 2, 3, 4]\n"
   ]
  },
  {
   "cell_type": "markdown",
   "metadata": {},
   "source": [
    "15. Check Common Member in Two Lists"
   ]
  },
  {
   "cell_type": "code",
   "execution_count": 18,
   "metadata": {},
   "outputs": [
    {
     "name": "stdout",
     "output_type": "stream",
     "text": [
      "False\n",
      "True\n"
     ]
    }
   ],
   "source": [
    "def have_common_member(lst1, lst2):\n",
    "    return bool(set(lst1) & set(lst2))\n",
    "\n",
    "print(have_common_member([1, 2, 3], [4, 5, 6]))  # False\n",
    "print(have_common_member([1, 2, 3], [3, 4, 5]))  # True\n"
   ]
  },
  {
   "cell_type": "markdown",
   "metadata": {},
   "source": [
    "16. Remove Even Numbers from a List"
   ]
  },
  {
   "cell_type": "code",
   "execution_count": 19,
   "metadata": {},
   "outputs": [
    {
     "name": "stdout",
     "output_type": "stream",
     "text": [
      "[1, 3, 5]\n"
     ]
    }
   ],
   "source": [
    "def remove_even_numbers(lst):\n",
    "    return [num for num in lst if num % 2 != 0]\n",
    "\n",
    "sample_list = [1, 2, 3, 4, 5, 6]\n",
    "print(remove_even_numbers(sample_list))  # [1, 3, 5]\n"
   ]
  },
  {
   "cell_type": "markdown",
   "metadata": {},
   "source": [
    "17. Find Second Smallest Number in a List"
   ]
  },
  {
   "cell_type": "code",
   "execution_count": 20,
   "metadata": {},
   "outputs": [
    {
     "name": "stdout",
     "output_type": "stream",
     "text": [
      "2\n"
     ]
    }
   ],
   "source": [
    "def second_smallest(lst):\n",
    "    unique_sorted = sorted(set(lst))\n",
    "    return unique_sorted[1] if len(unique_sorted) > 1 else None\n",
    "\n",
    "sample_list = [3, 1, 4, 2, 2]\n",
    "print(second_smallest(sample_list))  # 2\n"
   ]
  },
  {
   "cell_type": "markdown",
   "metadata": {},
   "source": [
    "18. Split List Every Nth Element"
   ]
  },
  {
   "cell_type": "code",
   "execution_count": 21,
   "metadata": {},
   "outputs": [
    {
     "name": "stdout",
     "output_type": "stream",
     "text": [
      "[[1, 2, 3], [4, 5, 6], [7]]\n"
     ]
    }
   ],
   "source": [
    "def split_list(lst, n):\n",
    "    return [lst[i:i + n] for i in range(0, len(lst), n)]\n",
    "\n",
    "sample_list = [1, 2, 3, 4, 5, 6, 7]\n",
    "print(split_list(sample_list, 3))  # [[1, 2, 3], [4, 5, 6], [7]]\n"
   ]
  },
  {
   "cell_type": "markdown",
   "metadata": {},
   "source": [
    "19. Union and Intersection of Two Lists"
   ]
  },
  {
   "cell_type": "code",
   "execution_count": 22,
   "metadata": {},
   "outputs": [
    {
     "name": "stdout",
     "output_type": "stream",
     "text": [
      "([1, 2, 3, 4, 5], [3])\n"
     ]
    }
   ],
   "source": [
    "def union_and_intersection(lst1, lst2):\n",
    "    union = list(set(lst1) | set(lst2))\n",
    "    intersection = list(set(lst1) & set(lst2))\n",
    "    return union, intersection\n",
    "\n",
    "lst1 = [1, 2, 3]\n",
    "lst2 = [3, 4, 5]\n",
    "print(union_and_intersection(lst1, lst2))  # (Union: [1, 2, 3, 4, 5], Intersection: [3])\n"
   ]
  },
  {
   "cell_type": "markdown",
   "metadata": {},
   "source": [
    "20. Check if a List is Palindrome\n"
   ]
  },
  {
   "cell_type": "code",
   "execution_count": null,
   "metadata": {},
   "outputs": [],
   "source": [
    "def menu():\n",
    "    lst = []\n",
    "    while True:\n",
    "        choice = input(\"1: Insert, 2: Delete, 3: Access, 4: Update, 5: Traverse, 6: Exit: \")\n",
    "        if choice == '1':\n",
    "            item = input(\"Enter item to insert: \")\n",
    "            lst.append(item)\n",
    "        elif choice == '2':\n",
    "            item = input(\"Enter item to delete: \")\n",
    "            lst.remove(item)\n",
    "        elif choice == '3':\n",
    "            print(lst)\n",
    "        elif choice == '4':\n",
    "            index = int(input(\"Enter index to update: \"))\n",
    "            item = input(\"Enter new item: \")\n",
    "            lst[index] = item\n",
    "        elif choice == '5':\n",
    "            print(\"Traversal:\", lst)\n",
    "        elif choice == '6':\n",
    "            break\n",
    "\n",
    "menu()\n"
   ]
  },
  {
   "cell_type": "markdown",
   "metadata": {},
   "source": [
    "21. Menu-Based Program for List Operations"
   ]
  },
  {
   "cell_type": "code",
   "execution_count": 4,
   "metadata": {},
   "outputs": [
    {
     "ename": "KeyboardInterrupt",
     "evalue": "Interrupted by user",
     "output_type": "error",
     "traceback": [
      "\u001b[0;31m---------------------------------------------------------------------------\u001b[0m",
      "\u001b[0;31mKeyboardInterrupt\u001b[0m                         Traceback (most recent call last)",
      "Cell \u001b[0;32mIn[4], line 22\u001b[0m\n\u001b[1;32m     19\u001b[0m         \u001b[38;5;28;01melif\u001b[39;00m choice \u001b[38;5;241m==\u001b[39m \u001b[38;5;124m'\u001b[39m\u001b[38;5;124m6\u001b[39m\u001b[38;5;124m'\u001b[39m:\n\u001b[1;32m     20\u001b[0m             \u001b[38;5;28;01mbreak\u001b[39;00m\n\u001b[0;32m---> 22\u001b[0m \u001b[43mmenu\u001b[49m\u001b[43m(\u001b[49m\u001b[43m)\u001b[49m\n",
      "Cell \u001b[0;32mIn[4], line 4\u001b[0m, in \u001b[0;36mmenu\u001b[0;34m()\u001b[0m\n\u001b[1;32m      2\u001b[0m lst \u001b[38;5;241m=\u001b[39m []\n\u001b[1;32m      3\u001b[0m \u001b[38;5;28;01mwhile\u001b[39;00m \u001b[38;5;28;01mTrue\u001b[39;00m:\n\u001b[0;32m----> 4\u001b[0m     choice \u001b[38;5;241m=\u001b[39m \u001b[38;5;28;43minput\u001b[39;49m\u001b[43m(\u001b[49m\u001b[38;5;124;43m\"\u001b[39;49m\u001b[38;5;124;43m1: Insert, 2: Delete, 3: Access, 4: Update, 5: Traverse, 6: Exit: \u001b[39;49m\u001b[38;5;124;43m\"\u001b[39;49m\u001b[43m)\u001b[49m\n\u001b[1;32m      5\u001b[0m     \u001b[38;5;28;01mif\u001b[39;00m choice \u001b[38;5;241m==\u001b[39m \u001b[38;5;124m'\u001b[39m\u001b[38;5;124m1\u001b[39m\u001b[38;5;124m'\u001b[39m:\n\u001b[1;32m      6\u001b[0m         item \u001b[38;5;241m=\u001b[39m \u001b[38;5;28minput\u001b[39m(\u001b[38;5;124m\"\u001b[39m\u001b[38;5;124mEnter item to insert: \u001b[39m\u001b[38;5;124m\"\u001b[39m)\n",
      "File \u001b[0;32m~/Library/Python/3.13/lib/python/site-packages/ipykernel/kernelbase.py:1282\u001b[0m, in \u001b[0;36mKernel.raw_input\u001b[0;34m(self, prompt)\u001b[0m\n\u001b[1;32m   1280\u001b[0m     msg \u001b[38;5;241m=\u001b[39m \u001b[38;5;124m\"\u001b[39m\u001b[38;5;124mraw_input was called, but this frontend does not support input requests.\u001b[39m\u001b[38;5;124m\"\u001b[39m\n\u001b[1;32m   1281\u001b[0m     \u001b[38;5;28;01mraise\u001b[39;00m StdinNotImplementedError(msg)\n\u001b[0;32m-> 1282\u001b[0m \u001b[38;5;28;01mreturn\u001b[39;00m \u001b[38;5;28;43mself\u001b[39;49m\u001b[38;5;241;43m.\u001b[39;49m\u001b[43m_input_request\u001b[49m\u001b[43m(\u001b[49m\n\u001b[1;32m   1283\u001b[0m \u001b[43m    \u001b[49m\u001b[38;5;28;43mstr\u001b[39;49m\u001b[43m(\u001b[49m\u001b[43mprompt\u001b[49m\u001b[43m)\u001b[49m\u001b[43m,\u001b[49m\n\u001b[1;32m   1284\u001b[0m \u001b[43m    \u001b[49m\u001b[38;5;28;43mself\u001b[39;49m\u001b[38;5;241;43m.\u001b[39;49m\u001b[43m_parent_ident\u001b[49m\u001b[43m[\u001b[49m\u001b[38;5;124;43m\"\u001b[39;49m\u001b[38;5;124;43mshell\u001b[39;49m\u001b[38;5;124;43m\"\u001b[39;49m\u001b[43m]\u001b[49m\u001b[43m,\u001b[49m\n\u001b[1;32m   1285\u001b[0m \u001b[43m    \u001b[49m\u001b[38;5;28;43mself\u001b[39;49m\u001b[38;5;241;43m.\u001b[39;49m\u001b[43mget_parent\u001b[49m\u001b[43m(\u001b[49m\u001b[38;5;124;43m\"\u001b[39;49m\u001b[38;5;124;43mshell\u001b[39;49m\u001b[38;5;124;43m\"\u001b[39;49m\u001b[43m)\u001b[49m\u001b[43m,\u001b[49m\n\u001b[1;32m   1286\u001b[0m \u001b[43m    \u001b[49m\u001b[43mpassword\u001b[49m\u001b[38;5;241;43m=\u001b[39;49m\u001b[38;5;28;43;01mFalse\u001b[39;49;00m\u001b[43m,\u001b[49m\n\u001b[1;32m   1287\u001b[0m \u001b[43m\u001b[49m\u001b[43m)\u001b[49m\n",
      "File \u001b[0;32m~/Library/Python/3.13/lib/python/site-packages/ipykernel/kernelbase.py:1325\u001b[0m, in \u001b[0;36mKernel._input_request\u001b[0;34m(self, prompt, ident, parent, password)\u001b[0m\n\u001b[1;32m   1322\u001b[0m \u001b[38;5;28;01mexcept\u001b[39;00m \u001b[38;5;167;01mKeyboardInterrupt\u001b[39;00m:\n\u001b[1;32m   1323\u001b[0m     \u001b[38;5;66;03m# re-raise KeyboardInterrupt, to truncate traceback\u001b[39;00m\n\u001b[1;32m   1324\u001b[0m     msg \u001b[38;5;241m=\u001b[39m \u001b[38;5;124m\"\u001b[39m\u001b[38;5;124mInterrupted by user\u001b[39m\u001b[38;5;124m\"\u001b[39m\n\u001b[0;32m-> 1325\u001b[0m     \u001b[38;5;28;01mraise\u001b[39;00m \u001b[38;5;167;01mKeyboardInterrupt\u001b[39;00m(msg) \u001b[38;5;28;01mfrom\u001b[39;00m \u001b[38;5;28;01mNone\u001b[39;00m\n\u001b[1;32m   1326\u001b[0m \u001b[38;5;28;01mexcept\u001b[39;00m \u001b[38;5;167;01mException\u001b[39;00m:\n\u001b[1;32m   1327\u001b[0m     \u001b[38;5;28mself\u001b[39m\u001b[38;5;241m.\u001b[39mlog\u001b[38;5;241m.\u001b[39mwarning(\u001b[38;5;124m\"\u001b[39m\u001b[38;5;124mInvalid Message:\u001b[39m\u001b[38;5;124m\"\u001b[39m, exc_info\u001b[38;5;241m=\u001b[39m\u001b[38;5;28;01mTrue\u001b[39;00m)\n",
      "\u001b[0;31mKeyboardInterrupt\u001b[0m: Interrupted by user"
     ]
    }
   ],
   "source": [
    "def menu():\n",
    "    lst = []\n",
    "    while True:\n",
    "        choice = input(\"1: Insert, 2: Delete, 3: Access, 4: Update, 5: Traverse, 6: Exit: \")\n",
    "        if choice == '1':\n",
    "            item = input(\"Enter item to insert: \")\n",
    "            lst.append(item)\n",
    "        elif choice == '2':\n",
    "            item = input(\"Enter item to delete: \")\n",
    "            lst.remove(item)\n",
    "        elif choice == '3':\n",
    "            print(lst)\n",
    "        elif choice == '4':\n",
    "            index = int(input(\"Enter index to update: \"))\n",
    "            item = input(\"Enter new item: \")\n",
    "            lst[index] = item\n",
    "        elif choice == '5':\n",
    "            print(\"Traversal:\", lst)\n",
    "        elif choice == '6':\n",
    "            break\n",
    "\n",
    "menu()\n"
   ]
  },
  {
   "cell_type": "code",
   "execution_count": null,
   "metadata": {},
   "outputs": [],
   "source": []
  },
  {
   "cell_type": "markdown",
   "metadata": {},
   "source": [
    "22. Nested List Operations"
   ]
  },
  {
   "cell_type": "code",
   "execution_count": 3,
   "metadata": {},
   "outputs": [
    {
     "name": "stdout",
     "output_type": "stream",
     "text": [
      "[3, 4]\n",
      "[[1, 10], [3, 4], [5, 6], [7, 8]]\n"
     ]
    }
   ],
   "source": [
    "nested_list = [[1, 2], [3, 4], [5, 6]]\n",
    "# Access\n",
    "print(nested_list[1])  # [3, 4]\n",
    "# Add\n",
    "nested_list.append([7, 8])\n",
    "# Modify\n",
    "nested_list[0][1] = 10\n",
    "print(nested_list)\n",
    "\n",
    "\n"
   ]
  },
  {
   "cell_type": "markdown",
   "metadata": {},
   "source": [
    "23. List Slicing Operations"
   ]
  },
  {
   "cell_type": "code",
   "execution_count": 2,
   "metadata": {},
   "outputs": [
    {
     "name": "stdout",
     "output_type": "stream",
     "text": [
      "[10, 20, 30, 40, 50, 60, 70, 80, 90, 100]\n",
      "40\n",
      "[10, 20, 30, 40, 50]\n",
      "[40]\n",
      "[10, 20, 30, 40, 50, 60, 70, 80, 90, 100, 110]\n",
      "[10, 20, 30, 40, 50, 60, 70, 80, 90, 100, 110]\n",
      "[10, 20, 30, 40, 50, 60, 70, 80, 90, 100]\n",
      "[10, 30, 40, 50, 60, 70, 80, 90, 100]\n",
      "[10, 15, 30, 40, 50, 60, 70, 80, 90, 100]\n",
      "1\n",
      "[10, 15, 30, 40, 50, 60, 70, 80, 90, 100, 120, 130]\n",
      "[130, 120, 100, 90, 80, 70, 60, 50, 40, 30, 15, 10]\n"
     ]
    }
   ],
   "source": [
    "a = [10, 20, 30, 40, 50, 60, 70, 80, 90, 100]\n",
    "\n",
    "print(a)                        # Complete list\n",
    "print(a[3])                     # 4th element\n",
    "print(a[0:5])                   # From 0 to 4\n",
    "print(a[-7:4])                  # -7 to 3\n",
    "a.append(110)                   # Append\n",
    "print(a)\n",
    "a.sort()                        # Sort\n",
    "print(a)\n",
    "a.pop()                         # Pop last element\n",
    "print(a)\n",
    "a.remove(20)                   # Remove specified element\n",
    "print(a)\n",
    "a.insert(1, 15)                # Insert at index 1\n",
    "print(a)\n",
    "print(a.count(30))             # Count occurrence\n",
    "a.extend([120, 130])           # Extend list\n",
    "print(a)\n",
    "a.reverse()                    # Reverse list\n",
    "print(a)\n"
   ]
  },
  {
   "cell_type": "markdown",
   "metadata": {},
   "source": [
    "24. Add Two Matrices Using Nested Lists"
   ]
  },
  {
   "cell_type": "code",
   "execution_count": 1,
   "metadata": {},
   "outputs": [
    {
     "name": "stdout",
     "output_type": "stream",
     "text": [
      "[[8, 10, 12], [14, 16, 18]]\n"
     ]
    }
   ],
   "source": [
    "def add_matrices(m1, m2):\n",
    "    return [[m1[i][j] + m2[i][j] for j in range(len(m1[0]))] for i in range(len(m1))]\n",
    "\n",
    "matrix1 = [[1, 2, 3], [4, 5, 6]]\n",
    "matrix2 = [[7, 8, 9], [10, 11, 12]]\n",
    "result = add_matrices(matrix1, matrix2)\n",
    "print(result)  # [[8, 10, 12], [14, 16, 18]]\n"
   ]
  },
  {
   "cell_type": "markdown",
   "metadata": {},
   "source": [
    "25. List Comprehension for Integer Elements"
   ]
  },
  {
   "cell_type": "code",
   "execution_count": 5,
   "metadata": {},
   "outputs": [
    {
     "name": "stdout",
     "output_type": "stream",
     "text": [
      "[1, 4, 9, 0, 4]\n"
     ]
    }
   ],
   "source": [
    "l1 = [1, 'x', 4, 5.6, 'z', 9, 'a', 0, 4]\n",
    "l2 = [x for x in l1 if isinstance(x, int)]\n",
    "print(l2)  # [1, 4, 9, 0, 4]\n",
    "    "
   ]
  },
  {
   "cell_type": "markdown",
   "metadata": {},
   "source": [
    "26. Element-wise Sum of Tuples"
   ]
  },
  {
   "cell_type": "code",
   "execution_count": 6,
   "metadata": {},
   "outputs": [
    {
     "name": "stdout",
     "output_type": "stream",
     "text": [
      "(6, 9, 8, 6)\n"
     ]
    }
   ],
   "source": [
    "def element_wise_sum(t1, t2, t3):\n",
    "    return tuple(a + b + c for a, b, c in zip(t1, t2, t3))\n",
    "\n",
    "tuple1 = (1, 2, 3, 4)\n",
    "tuple2 = (3, 5, 2, 1)\n",
    "tuple3 = (2, 2, 3, 1)\n",
    "print(element_wise_sum(tuple1, tuple2, tuple3))  # (6, 9, 8, 6)\n"
   ]
  },
  {
   "cell_type": "markdown",
   "metadata": {},
   "source": [
    "27. Convert List of Tuples to List of Lists"
   ]
  },
  {
   "cell_type": "code",
   "execution_count": 7,
   "metadata": {},
   "outputs": [
    {
     "name": "stdout",
     "output_type": "stream",
     "text": [
      "[[1, 2], [2, 3], [3, 4]]\n"
     ]
    }
   ],
   "source": [
    "def convert_tuples_to_lists(tuples):\n",
    "    return [list(t) for t in tuples]\n",
    "\n",
    "original_tuples = [(1, 2), (2, 3), (3, 4)]\n",
    "print(convert_tuples_to_lists(original_tuples))  # [[1, 2], [2, 3], [3, 4]]\n"
   ]
  },
  {
   "cell_type": "markdown",
   "metadata": {},
   "source": [
    "28. Remove Empty Tuples from a List"
   ]
  },
  {
   "cell_type": "code",
   "execution_count": 8,
   "metadata": {},
   "outputs": [
    {
     "name": "stdout",
     "output_type": "stream",
     "text": [
      "[(1, 2), (3, 4)]\n"
     ]
    }
   ],
   "source": [
    "def remove_empty_tuples(tuples):\n",
    "    return [t for t in tuples if t]\n",
    "\n",
    "sample_tuples = [(), (1, 2), (), (3, 4)]\n",
    "print(remove_empty_tuples(sample_tuples))  # [(1, 2), (3, 4)]\n"
   ]
  },
  {
   "cell_type": "markdown",
   "metadata": {},
   "source": [
    "29. Convert String to Tuple"
   ]
  },
  {
   "cell_type": "code",
   "execution_count": 9,
   "metadata": {},
   "outputs": [
    {
     "name": "stdout",
     "output_type": "stream",
     "text": [
      "('h', 'e', 'l', 'l', 'o')\n"
     ]
    }
   ],
   "source": [
    "def string_to_tuple(s):\n",
    "    return tuple(s)\n",
    "\n",
    "sample_string = \"hello\"\n",
    "print(string_to_tuple(sample_string))  # ('h', 'e', 'l', 'l', 'o')\n"
   ]
  },
  {
   "cell_type": "markdown",
   "metadata": {},
   "source": [
    "30. Calculate Product of Tuple Elements"
   ]
  },
  {
   "cell_type": "code",
   "execution_count": 10,
   "metadata": {},
   "outputs": [
    {
     "name": "stdout",
     "output_type": "stream",
     "text": [
      "24\n"
     ]
    }
   ],
   "source": [
    "import math\n",
    "\n",
    "def product_of_tuple(t):\n",
    "    return math.prod(t)\n",
    "\n",
    "sample_tuple = (1, 2, 3, 4)\n",
    "print(product_of_tuple(sample_tuple))  # 24\n"
   ]
  },
  {
   "cell_type": "markdown",
   "metadata": {},
   "source": [
    "31. List of Squares from 1 to 20"
   ]
  },
  {
   "cell_type": "code",
   "execution_count": 11,
   "metadata": {},
   "outputs": [
    {
     "name": "stdout",
     "output_type": "stream",
     "text": [
      "[1, 4, 9, 16, 25, 36, 49, 64, 81, 100, 121, 144, 169, 196, 225, 256, 289, 324, 361, 400]\n"
     ]
    }
   ],
   "source": [
    "squares = [x**2 for x in range(1, 21)]\n",
    "print(squares)\n"
   ]
  },
  {
   "cell_type": "markdown",
   "metadata": {},
   "source": [
    "32. Remove Item from Set"
   ]
  },
  {
   "cell_type": "code",
   "execution_count": 12,
   "metadata": {},
   "outputs": [
    {
     "name": "stdout",
     "output_type": "stream",
     "text": [
      "{1, 2, 4}\n"
     ]
    }
   ],
   "source": [
    "def remove_item(s, item):\n",
    "    s.discard(item)  # discard does not raise an error if item not found\n",
    "    return s\n",
    "\n",
    "sample_set = {1, 2, 3, 4}\n",
    "print(remove_item(sample_set, 3))  # {1, 2, 4}\n"
   ]
  },
  {
   "cell_type": "markdown",
   "metadata": {},
   "source": [
    "33. Check if Two Sets Have No Elements in Common\n"
   ]
  },
  {
   "cell_type": "code",
   "execution_count": 13,
   "metadata": {},
   "outputs": [
    {
     "name": "stdout",
     "output_type": "stream",
     "text": [
      "True\n"
     ]
    }
   ],
   "source": [
    "def no_common_elements(set1, set2):\n",
    "    return set1.isdisjoint(set2)\n",
    "\n",
    "set1 = {1, 2, 3}\n",
    "set2 = {4, 5, 6}\n",
    "print(no_common_elements(set1, set2))  # True\n"
   ]
  },
  {
   "cell_type": "markdown",
   "metadata": {},
   "source": [
    "34. Get Unique Items from Two Sets"
   ]
  },
  {
   "cell_type": "code",
   "execution_count": 14,
   "metadata": {},
   "outputs": [
    {
     "name": "stdout",
     "output_type": "stream",
     "text": [
      "{1, 2, 4, 5}\n"
     ]
    }
   ],
   "source": [
    "def unique_items(set1, set2):\n",
    "    return set1.symmetric_difference(set2)\n",
    "\n",
    "set1 = {1, 2, 3}\n",
    "set2 = {3, 4, 5}\n",
    "print(unique_items(set1, set2))  # {1, 2, 4, 5}\n"
   ]
  },
  {
   "cell_type": "markdown",
   "metadata": {},
   "source": [
    "35. Convert Set to String"
   ]
  },
  {
   "cell_type": "code",
   "execution_count": 15,
   "metadata": {},
   "outputs": [
    {
     "name": "stdout",
     "output_type": "stream",
     "text": [
      "123\n"
     ]
    }
   ],
   "source": [
    "def set_to_string(s):\n",
    "    return ''.join(str(item) for item in s)\n",
    "\n",
    "sample_set = {1, 2, 3}\n",
    "print(set_to_string(sample_set))  # '123'\n"
   ]
  },
  {
   "cell_type": "markdown",
   "metadata": {},
   "source": [
    "36. Count Vowels Using Sets"
   ]
  },
  {
   "cell_type": "code",
   "execution_count": 16,
   "metadata": {},
   "outputs": [
    {
     "name": "stdout",
     "output_type": "stream",
     "text": [
      "3\n"
     ]
    }
   ],
   "source": [
    "def count_vowels(s):\n",
    "    vowels = set('aeiouAEIOU')\n",
    "    return sum(1 for char in s if char in vowels)\n",
    "\n",
    "sample_string = \"Hello World\"\n",
    "print(count_vowels(sample_string))  # 3\n"
   ]
  },
  {
   "cell_type": "markdown",
   "metadata": {},
   "source": [
    "37. Set of Cubes of Even Numbers\n"
   ]
  },
  {
   "cell_type": "code",
   "execution_count": 17,
   "metadata": {},
   "outputs": [
    {
     "name": "stdout",
     "output_type": "stream",
     "text": [
      "{512, 64, 1728, 8, 1000, 216}\n"
     ]
    }
   ],
   "source": [
    "cubes = {x**3 for x in range(2, 13, 2)}\n",
    "print(cubes)  # {8, 64, 216, 1000, 1728, 512}\n"
   ]
  },
  {
   "cell_type": "markdown",
   "metadata": {},
   "source": [
    "38. Sort Dictionary by Value"
   ]
  },
  {
   "cell_type": "code",
   "execution_count": 18,
   "metadata": {},
   "outputs": [
    {
     "name": "stdout",
     "output_type": "stream",
     "text": [
      "{'b': 1, 'a': 2, 'c': 3}\n",
      "{'c': 3, 'a': 2, 'b': 1}\n"
     ]
    }
   ],
   "source": [
    "def sort_dict_by_value(d, reverse=False):\n",
    "    return dict(sorted(d.items(), key=lambda item: item[1], reverse=reverse))\n",
    "\n",
    "sample_dict = {'a': 2, 'b': 1, 'c': 3}\n",
    "print(sort_dict_by_value(sample_dict))        # Ascending\n",
    "print(sort_dict_by_value(sample_dict, True))  # Descending\n"
   ]
  },
  {
   "cell_type": "markdown",
   "metadata": {},
   "source": [
    "39. Remove Duplicates from Dictionary"
   ]
  },
  {
   "cell_type": "code",
   "execution_count": 19,
   "metadata": {},
   "outputs": [
    {
     "name": "stdout",
     "output_type": "stream",
     "text": [
      "{'a': 1, 'b': 2}\n"
     ]
    }
   ],
   "source": [
    "def remove_duplicates_from_dict(d):\n",
    "    return {k: v for k, v in d.items() if v not in seen and not seen.add(v)}\n",
    "\n",
    "sample_dict = {'a': 1, 'b': 2, 'c': 1}\n",
    "seen = set()\n",
    "print(remove_duplicates_from_dict(sample_dict))  # {'a': 1, 'b': 2}\n"
   ]
  },
  {
   "cell_type": "markdown",
   "metadata": {},
   "source": [
    "40. Combine Two Dictionaries"
   ]
  },
  {
   "cell_type": "code",
   "execution_count": 20,
   "metadata": {},
   "outputs": [
    {
     "name": "stdout",
     "output_type": "stream",
     "text": [
      "{'a': 1, 'b': 5, 'c': 4}\n"
     ]
    }
   ],
   "source": [
    "def combine_dicts(d1, d2):\n",
    "    for key in d2:\n",
    "        if key in d1:\n",
    "            d1[key] += d2[key]\n",
    "        else:\n",
    "            d1[key] = d2[key]\n",
    "    return d1\n",
    "\n",
    "dict1 = {'a': 1, 'b': 2}\n",
    "dict2 = {'b': 3, 'c': 4}\n",
    "print(combine_dicts(dict1, dict2))  # {'a': 1, 'b': 5, 'c': 4}\n"
   ]
  },
  {
   "cell_type": "markdown",
   "metadata": {},
   "source": [
    "41. Create Dictionary from String"
   ]
  },
  {
   "cell_type": "code",
   "execution_count": 21,
   "metadata": {},
   "outputs": [
    {
     "name": "stdout",
     "output_type": "stream",
     "text": [
      "{'h': 1, 'e': 1, 'l': 2, 'o': 1}\n"
     ]
    }
   ],
   "source": [
    "\n",
    "\n",
    "\n",
    "def char_count(s):\n",
    "    count = {}\n",
    "    for char in s:\n",
    "        count[char] = count.get(char, 0) + 1\n",
    "    return count\n",
    "\n",
    "sample_string = \"hello\"\n",
    "print(char_count(sample_string))  # {'h': 1, 'e': 1, 'l': 2, 'o': 1}\n"
   ]
  },
  {
   "cell_type": "markdown",
   "metadata": {},
   "source": [
    "42. Match Keys and Values in Two Dictionaries"
   ]
  },
  {
   "cell_type": "code",
   "execution_count": 22,
   "metadata": {},
   "outputs": [
    {
     "name": "stdout",
     "output_type": "stream",
     "text": [
      "{'b': 2}\n"
     ]
    }
   ],
   "source": [
    "def match_keys_and_values(d1, d2):\n",
    "    return {k: d1[k] for k in d1 if k in d2 and d1[k] == d2[k]}\n",
    "\n",
    "dict1 = {'a': 1, 'b': 2}\n",
    "dict2 = {'b': 2, 'c': 3}\n",
    "print(match_keys_and_values(dict1, dict2))  # {'b': 2}\n"
   ]
  },
  {
   "cell_type": "markdown",
   "metadata": {},
   "source": [
    "43. Convert Prices from Dollar to Pound"
   ]
  },
  {
   "cell_type": "code",
   "execution_count": 23,
   "metadata": {},
   "outputs": [
    {
     "name": "stdout",
     "output_type": "stream",
     "text": [
      "{'milk': 0.7446, 'coffee': 1.825, 'bread': 1.825}\n"
     ]
    }
   ],
   "source": [
    "def convert_to_pound(prices, conversion_rate=0.73):\n",
    "    return {item: price * conversion_rate for item, price in prices.items()}\n",
    "\n",
    "old_price = {'milk': 1.02, 'coffee': 2.5, 'bread': 2.5}\n",
    "print(convert_to_pound(old_price))\n"
   ]
  },
  {
   "cell_type": "markdown",
   "metadata": {},
   "source": [
    "44. Store Key-Value Pairs with Even Age"
   ]
  },
  {
   "cell_type": "code",
   "execution_count": 24,
   "metadata": {},
   "outputs": [
    {
     "name": "stdout",
     "output_type": "stream",
     "text": [
      "{'jack': 38, 'michael': 48}\n"
     ]
    }
   ],
   "source": [
    "def filter_even_age(original_dict):\n",
    "    return {k: v for k, v in original_dict.items() if v % 2 == 0}\n",
    "\n",
    "original_dict = {'jack': 38, 'michael': 48, 'guido': 57, 'john': 33}\n",
    "print(filter_even_age(original_dict))  # {'jack': 38, 'michael': 48}\n"
   ]
  }
 ],
 "metadata": {
  "kernelspec": {
   "display_name": "Python 3",
   "language": "python",
   "name": "python3"
  },
  "language_info": {
   "codemirror_mode": {
    "name": "ipython",
    "version": 3
   },
   "file_extension": ".py",
   "mimetype": "text/x-python",
   "name": "python",
   "nbconvert_exporter": "python",
   "pygments_lexer": "ipython3",
   "version": "3.13.0"
  }
 },
 "nbformat": 4,
 "nbformat_minor": 2
}
