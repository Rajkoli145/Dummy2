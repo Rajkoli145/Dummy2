{
 "cells": [
  {
   "cell_type": "markdown",
   "metadata": {},
   "source": [
    "WAP TO CLACULATE AREA AND PERMETER OF A RECTANGLE."
   ]
  },
  {
   "cell_type": "code",
   "execution_count": 35,
   "metadata": {},
   "outputs": [
    {
     "name": "stdout",
     "output_type": "stream",
     "text": [
      "The area  of rectangle is 1344.0\n",
      "The perimeter  of rectangle is 248.0\n"
     ]
    }
   ],
   "source": [
    "l=float(input(\"Enter the length of the rectangle\"))\n",
    "b=float(input(\"Enter the breadth of the rectangle.\"))\n",
    "a=l * b\n",
    "p=2*(l+b)\n",
    "print(f'The area  of rectangle is {a}')\n",
    "print(f'The perimeter  of rectangle is {p}')\n"
   ]
  },
  {
   "cell_type": "markdown",
   "metadata": {},
   "source": [
    " WAP TO COMPUTE SIMPLE INTEREST"
   ]
  },
  {
   "cell_type": "code",
   "execution_count": 14,
   "metadata": {},
   "outputs": [
    {
     "name": "stdout",
     "output_type": "stream",
     "text": [
      "The Simple Interest is: 80.0\n"
     ]
    }
   ],
   "source": [
    "p=int(input(\"Enter the principle amount:\"))\n",
    "r=int(input(\"Enter the rate of interest:\"))\n",
    "t=int(input(\"Enter the time: \"))\n",
    "s=p*r*t/100\n",
    "\n",
    "print(f'The Simple Interest is: {s}')"
   ]
  },
  {
   "cell_type": "markdown",
   "metadata": {},
   "source": [
    "WAP TO FIND AVERAGE OF THREE NUMBERS"
   ]
  },
  {
   "cell_type": "code",
   "execution_count": 16,
   "metadata": {},
   "outputs": [
    {
     "name": "stdout",
     "output_type": "stream",
     "text": [
      "This average of three numbers is 24.333333333333332\n"
     ]
    }
   ],
   "source": [
    "num1=float(input(\"Enter the 1st number:\"))\n",
    "num2=float(input(\"Enter the 2nd number:\"))\n",
    "num3=float(input(\"Enter the 3rd number:\"))\n",
    "\n",
    "average=(num1+num2+num3)/3\n",
    "\n",
    "print(f\"This average of three numbers is {average}\")\n"
   ]
  },
  {
   "cell_type": "markdown",
   "metadata": {},
   "source": [
    "WAP TO FIND AREA OF CUBOID."
   ]
  },
  {
   "cell_type": "code",
   "execution_count": 19,
   "metadata": {},
   "outputs": [
    {
     "name": "stdout",
     "output_type": "stream",
     "text": [
      "The area of cuboid is 864.0 square units\n"
     ]
    }
   ],
   "source": [
    "l=float(input(\"Enter the length\"))\n",
    "h=float(input(\"Enter the heigth\"))\n",
    "w=float(input(\"Enter the width\"))\n",
    "\n",
    "SA=2*(l*w+l*h+w*h)\n",
    "\n",
    "print(f\"The area of cuboid is {SA} square units\")\n"
   ]
  },
  {
   "cell_type": "markdown",
   "metadata": {},
   "source": [
    "WAP TO CLACULATE THE AREA OF CIRCLE"
   ]
  },
  {
   "cell_type": "code",
   "execution_count": 21,
   "metadata": {},
   "outputs": [
    {
     "name": "stdout",
     "output_type": "stream",
     "text": [
      "The area of cicle is 75.36\n"
     ]
    }
   ],
   "source": [
    "pi=3.14\n",
    "r=float(input(\"Enter the value of radius of the circle:\"))\n",
    "\n",
    "Area_of_circle= 2*pi*r\n",
    "print(f\"The area of cicle is {Area_of_circle}\")"
   ]
  },
  {
   "cell_type": "markdown",
   "metadata": {},
   "source": [
    "WAP TO FIND VOLUME OF A SPHERE (FORMULA: VOL=4/3pir3)"
   ]
  },
  {
   "cell_type": "code",
   "execution_count": 22,
   "metadata": {},
   "outputs": [
    {
     "name": "stdout",
     "output_type": "stream",
     "text": [
      "Volume of a sphere is:150.71999999999997\n"
     ]
    }
   ],
   "source": [
    "pi=3.14\n",
    "r=float(input(\"Enter the value of radius:\"))\n",
    "\n",
    "vol=4/3*pi*r*3\n",
    "print(f'Volume of a sphere is:{vol}')"
   ]
  },
  {
   "cell_type": "markdown",
   "metadata": {},
   "source": [
    "Separater :\n",
    " "
   ]
  },
  {
   "cell_type": "code",
   "execution_count": 45,
   "metadata": {},
   "outputs": [
    {
     "name": "stdout",
     "output_type": "stream",
     "text": [
      "2,4\n"
     ]
    }
   ],
   "source": [
    "a,b=2,4\n",
    "print(a, b ,sep=',')"
   ]
  },
  {
   "cell_type": "markdown",
   "metadata": {},
   "source": [
    "CONVERSION TYPES \n",
    "PRINT() STATEMENT: WITH MODULO OPERATOR\n",
    "%d=Interger\n",
    "%i=interger\n",
    "%f=float\n",
    "%s=string\n",
    "%x=hexadecimal\n",
    "%o=octal\n"
   ]
  },
  {
   "cell_type": "markdown",
   "metadata": {},
   "source": [
    "\n",
    "syntax: print(\"formated string\"%(variablel list))\n"
   ]
  },
  {
   "cell_type": "code",
   "execution_count": 51,
   "metadata": {},
   "outputs": [
    {
     "name": "stdout",
     "output_type": "stream",
     "text": [
      "value is 10\n",
      "value is 10\n",
      "value is x = 10 y = 20\n"
     ]
    }
   ],
   "source": [
    "x=10\n",
    "print(\"value is %i\"%x)\n",
    "print(\"value is %i\"%(x))\n",
    "\n",
    "x,y=10,20\n",
    "print('value is x = %i y = %d' %(x,y))"
   ]
  },
  {
   "cell_type": "markdown",
   "metadata": {},
   "source": []
  },
  {
   "cell_type": "markdown",
   "metadata": {},
   "source": [
    "WAP FUNCTION FIND GREATEST OF THREE NUMBERS"
   ]
  },
  {
   "cell_type": "code",
   "execution_count": 14,
   "metadata": {},
   "outputs": [
    {
     "name": "stdout",
     "output_type": "stream",
     "text": [
      "The greatest number is: 4.0\n"
     ]
    }
   ],
   "source": [
    "def greatest_num(a, b, c):\n",
    "\tif a >= b and a >= c:\n",
    "\t\treturn a\n",
    "\telif b >= a and b >= c:\n",
    "\t\treturn b\n",
    "\telse:\n",
    "\t\treturn c\n",
    "num1 = float(input(\"Enter the first number: \"))\n",
    "num2 = float(input(\"Enter the second number: \"))\n",
    "num3 = float(input(\"Enter the third number: \"))\n",
    "\n",
    "print(\"The greatest number is:\", greatest_num(num1, num2, num3))"
   ]
  },
  {
   "cell_type": "code",
   "execution_count": 15,
   "metadata": {},
   "outputs": [
    {
     "name": "stdout",
     "output_type": "stream",
     "text": [
      "The greater number is 4.0\n"
     ]
    }
   ],
   "source": [
    "a=float(input(\"Enter the first number:\"))\n",
    "b=float(input(\"Enter the second number:\"))\n",
    "c=float(input(\"Enter the thrid number:\"))\n",
    "if a>=b and a>=c:\n",
    "\tprint(f\"The greater number is {a}\")\n",
    "elif b>=a and b>=c:\n",
    "\tprint(f\"The greater number is {b}\")\n",
    "else:\n",
    "\tprint(f\"The greater number is {c}\")"
   ]
  },
  {
   "cell_type": "markdown",
   "metadata": {},
   "source": [
    "WAP TO ACCEPT A BINARY NUMBER ,CONVERT IT INTO DECIMAL NUMBER AND PRINT IT "
   ]
  },
  {
   "cell_type": "code",
   "execution_count": 10,
   "metadata": {},
   "outputs": [
    {
     "name": "stdout",
     "output_type": "stream",
     "text": [
      "Convertion of enter binary to decimal is : 4\n"
     ]
    }
   ],
   "source": [
    "num1 =input(\"Enter the binary number: \")\n",
    "num2= int(num1,2)\n",
    "print(f\"Convertion of enter binary to decimal is : {num2}\")\n",
    "\n",
    "\n"
   ]
  },
  {
   "cell_type": "markdown",
   "metadata": {},
   "source": [
    "WAP TO ACCECT A BINARY NUMBER, CONVERT IT INTO OCTAL NUMBER AND PRINT IT "
   ]
  },
  {
   "cell_type": "code",
   "execution_count": 18,
   "metadata": {},
   "outputs": [
    {
     "name": "stdout",
     "output_type": "stream",
     "text": [
      "The octal number is 4\n"
     ]
    }
   ],
   "source": [
    "binary_num= input(\"Enter the binary number:\")\n",
    "decimal_num=int(binary_num,2)\n",
    "octal_num = oct( decimal_num)[2:]\n",
    "print(\"The octal number is\",octal_num)"
   ]
  },
  {
   "cell_type": "markdown",
   "metadata": {},
   "source": [
    "WAP to accept a binary number, convert it into hexadecimal number and print it."
   ]
  },
  {
   "cell_type": "code",
   "execution_count": 26,
   "metadata": {},
   "outputs": [
    {
     "name": "stdout",
     "output_type": "stream",
     "text": [
      "The hexadecimal number is:  9\n"
     ]
    }
   ],
   "source": [
    "binary_num=input(\"Enter the binary number: \")\n",
    "decimal_num=int(binary_num,2)\n",
    "hexadecimal_num=hex(decimal_num)[2:].upper()\n",
    "print(\"The hexadecimal number is: \",hexadecimal_num)\n",
    " \n"
   ]
  },
  {
   "cell_type": "markdown",
   "metadata": {},
   "source": [
    "WAP to accept a octal number, convert it into decimal number and print\n",
    "it."
   ]
  },
  {
   "cell_type": "code",
   "execution_count": 32,
   "metadata": {},
   "outputs": [
    {
     "name": "stdout",
     "output_type": "stream",
     "text": [
      "The decimal number is  4\n"
     ]
    }
   ],
   "source": [
    "octal_number=input(\"Enter the octal number: \")\n",
    "decimal_num=int(octal_num,8)\n",
    "print(\"The decimal number is \",decimal_num)"
   ]
  },
  {
   "cell_type": "code",
   "execution_count": 5,
   "metadata": {},
   "outputs": [
    {
     "name": "stdout",
     "output_type": "stream",
     "text": [
      "{1: 1, 2: 4, 3: 9, 4: 16, 5: 25, 6: 36, 7: 49, 8: 64, 9: 81, 10: 100}\n"
     ]
    }
   ],
   "source": [
    "# Dictionary Comprehesion:\n",
    "square_dict= dict()\n",
    "for num in range(1,11):\n",
    "\tsquare_dict[num] = num*num\n",
    "print(square_dict) "
   ]
  },
  {
   "cell_type": "code",
   "execution_count": 6,
   "metadata": {},
   "outputs": [
    {
     "name": "stdout",
     "output_type": "stream",
     "text": [
      "g occured 1 items\n",
      "o occured 2 items\n",
      "d occured 1 items\n",
      "i occured 1 items\n",
      "e occured 1 items\n"
     ]
    }
   ],
   "source": [
    "word=input(\"Enter any word: \")\n",
    "d={}\n",
    "for x in word:\n",
    "\td[x]=d.get(x,0)+1\n",
    "for k,v in d.items():\n",
    "\tprint(k,\"occured\",v,\"items\")"
   ]
  },
  {
   "cell_type": "code",
   "execution_count": 7,
   "metadata": {},
   "outputs": [
    {
     "name": "stdout",
     "output_type": "stream",
     "text": [
      "[1, 2, 3, 4, 5]\n"
     ]
    }
   ],
   "source": [
    "list=[1,2,3,4,5,6,7,4,5,2,3,4,1,4,5]\n",
    "dup =[]\n",
    "for a in list:\n",
    "\tn= list.count(a)\n",
    "\tif n>1:\n",
    "\t\tif dup.count(a)==0:\n",
    "\t\t\tdup.append(a)\n",
    "print(dup)"
   ]
  },
  {
   "cell_type": "code",
   "execution_count": 1,
   "metadata": {},
   "outputs": [
    {
     "name": "stdout",
     "output_type": "stream",
     "text": [
      "helloworld\n"
     ]
    }
   ],
   "source": [
    "print(\"hello\"+\"world\")"
   ]
  },
  {
   "cell_type": "code",
   "execution_count": null,
   "metadata": {},
   "outputs": [],
   "source": []
  },
  {
   "cell_type": "code",
   "execution_count": 7,
   "metadata": {},
   "outputs": [
    {
     "name": "stdout",
     "output_type": "stream",
     "text": [
      "Hello\n",
      "Hello\n",
      "Hello\n",
      "\n"
     ]
    }
   ],
   "source": [
    "print(\"Hello\\n\" *3)"
   ]
  },
  {
   "cell_type": "code",
   "execution_count": 11,
   "metadata": {},
   "outputs": [
    {
     "name": "stdout",
     "output_type": "stream",
     "text": [
      "Adalovelace\n",
      "adalovelace\n",
      "ADALOVELACE\n"
     ]
    }
   ],
   "source": [
    "name=\"adalovelace\"\n",
    "print(name.title())\n",
    "print(name.lower())\n",
    "print(name.upper()) "
   ]
  },
  {
   "cell_type": "code",
   "execution_count": 14,
   "metadata": {},
   "outputs": [
    {
     "data": {
      "text/plain": [
       "'python'"
      ]
     },
     "execution_count": 14,
     "metadata": {},
     "output_type": "execute_result"
    }
   ],
   "source": [
    "fav_sub=' python '\n",
    "fav_sub.rstrip()\n",
    "fav_sub.lstrip()\n",
    "fav_sub.strip()"
   ]
  },
  {
   "cell_type": "code",
   "execution_count": 20,
   "metadata": {},
   "outputs": [
    {
     "name": "stdout",
     "output_type": "stream",
     "text": [
      "[20, 5.5, 'abc', True, 20]\n",
      "list[-1]\n"
     ]
    }
   ],
   "source": [
    "ls=[20,5.5,'abc',True,20]\n",
    "print(ls)\n"
   ]
  },
  {
   "cell_type": "code",
   "execution_count": 25,
   "metadata": {},
   "outputs": [
    {
     "name": "stdout",
     "output_type": "stream",
     "text": [
      "list[0]\n",
      "list[1]\n",
      "<class 'type'>\n"
     ]
    }
   ],
   "source": [
    "ls=[10,20,30,40,50]\n",
    "print(list[0])\n",
    "print(list[1])\n",
    "print(type(list))"
   ]
  },
  {
   "cell_type": "code",
   "execution_count": 26,
   "metadata": {},
   "outputs": [
    {
     "name": "stdout",
     "output_type": "stream",
     "text": [
      "(10, 20, 30, 40)\n"
     ]
    }
   ],
   "source": [
    "t1=(10,20,30,40)\n",
    "print(t1)"
   ]
  },
  {
   "cell_type": "markdown",
   "metadata": {},
   "source": [
    "OOP - Object oreinted Programming\n",
    "POP - procredure orented programming                 "
   ]
  },
  {
   "cell_type": "markdown",
   "metadata": {},
   "source": [
    " # Syntax of creating an object : reference_variable = classmate()"
   ]
  },
  {
   "cell_type": "code",
   "execution_count": 2,
   "metadata": {},
   "outputs": [],
   "source": [
    "class  frist():\n",
    "\tpass\n",
    "f= frist()\n",
    "\t\n"
   ]
  },
  {
   "cell_type": "code",
   "execution_count": 3,
   "metadata": {},
   "outputs": [
    {
     "name": "stdout",
     "output_type": "stream",
     "text": [
      "barks\n"
     ]
    }
   ],
   "source": [
    "class dog:\n",
    "\tsound = \"barks\"\n",
    "d=dog()\n",
    "print(d.sound)"
   ]
  },
  {
   "cell_type": "code",
   "execution_count": 7,
   "metadata": {},
   "outputs": [
    {
     "name": "stdout",
     "output_type": "stream",
     "text": [
      "eating\n",
      "eating\n",
      "None\n"
     ]
    }
   ],
   "source": [
    "class dog:\n",
    "\tsound = \"barks\"\n",
    "\tdef eat(self):\n",
    "\t\t\tprint(\"eating\")\n",
    "d=dog()\n",
    "d.eat()\n",
    "print(d.eat())\n",
    " "
   ]
  },
  {
   "cell_type": "markdown",
   "metadata": {},
   "source": [
    "##  _ int _()fuction"
   ]
  },
  {
   "cell_type": "code",
   "execution_count": 33,
   "metadata": {},
   "outputs": [
    {
     "name": "stdout",
     "output_type": "stream",
     "text": [
      "Initializing\n",
      "Sample class\n"
     ]
    }
   ],
   "source": [
    "class sample:\n",
    "\tdef __init__(self):\n",
    "\t\tprint(\"Initializing\")\n",
    "\t\t\n",
    "\tdef pr(self):\n",
    "\t\tprint(\"Sample class\")\n",
    "\t\t\n",
    "s1=sample()\n",
    "s1.pr()\n",
    "\n",
    "\t"
   ]
  },
  {
   "cell_type": "code",
   "execution_count": 25,
   "metadata": {},
   "outputs": [
    {
     "name": "stdout",
     "output_type": "stream",
     "text": [
      "Name: Jhon\n",
      "Age: 36\n",
      "\n",
      "Name: Jack\n",
      "Age: 30\n",
      "\n",
      "Name: Raj\n",
      "Age: 18\n"
     ]
    }
   ],
   "source": [
    "\n",
    "class person:\n",
    "\tdef __init__(self,nm,ag):\n",
    "\t\tself.name = nm\n",
    "\t\tself.age = ag\n",
    "p1 = person(\"Jhon\",36)\n",
    "p2 = person(\"Jack\",30)\n",
    "p3 = person(\"Raj\",18)\n",
    "\n",
    "print(\"Name:\",p1.name)\n",
    "print(\"Age:\",p1.age)\n",
    "\n",
    "\n",
    "\n",
    "print(\"\\nName:\",p2.name)\n",
    "print(\"Age:\",p2.age)\n",
    "\n",
    "print(\"\\nName:\",p3.name)\n",
    "print(\"Age:\",p3.age)\n",
    "\t\t"
   ]
  },
  {
   "cell_type": "markdown",
   "metadata": {},
   "source": [
    "# Instance Methods ( Object Methods)\n"
   ]
  },
  {
   "cell_type": "code",
   "execution_count": 41,
   "metadata": {},
   "outputs": [
    {
     "name": "stdout",
     "output_type": "stream",
     "text": [
      "The name of person is Jhon and age 36 \n"
     ]
    }
   ],
   "source": [
    "class Person :\n",
    "\tdef __init__(self,nm,ag):\n",
    "\t\tself.name =nm\n",
    "\t\tself.age= ag\n",
    "\tdef myfunc(self):\n",
    "\t\tprint(\"The name of person is %s and age %s \" %(self.name,self.age))\n",
    "\t\t\n",
    "p1 = Person(\"Jhon\",36)\n",
    "p1.myfunc()"
   ]
  },
  {
   "cell_type": "markdown",
   "metadata": {},
   "source": [
    "# Types of Methods in a class:\n",
    "1. Instance Method\n",
    "2. Class Method\n",
    "3. Static Method"
   ]
  },
  {
   "cell_type": "code",
   "execution_count": 43,
   "metadata": {},
   "outputs": [],
   "source": [
    "class Myclass:\n",
    "\tdef meth(self):\n",
    "\t\tprint(\"Instance method\")\n",
    "\tdef class_meth(cls):\n",
    "\t\tprint(\"Class method\")\n",
    "\tdef static_meth(self):\n",
    "\t\tprint(\"Static method\")\n",
    "print()\n",
    "\t\n",
    "\t\t"
   ]
  },
  {
   "cell_type": "code",
   "execution_count": 48,
   "metadata": {},
   "outputs": [
    {
     "name": "stdout",
     "output_type": "stream",
     "text": [
      "Rajkoli\n",
      "18\n",
      "Pranavkale\n"
     ]
    }
   ],
   "source": [
    "# Creating class \n",
    "class student:\n",
    "\tname= \"Rajkoli\"\n",
    "\tname1=\"Pranavkale\"\n",
    "\tage=18\n",
    "# creating object( instance )\n",
    "\n",
    "s1=student()\n",
    "print(s1.name)\n",
    "print(s1.age)\n",
    "print(s1.name1)\n",
    "\t\n"
   ]
  },
  {
   "cell_type": "code",
   "execution_count": 50,
   "metadata": {},
   "outputs": [
    {
     "name": "stdout",
     "output_type": "stream",
     "text": [
      "Adding new student to database..\n",
      "rajkoli\n"
     ]
    }
   ],
   "source": [
    "class student:\n",
    "\tdef __init__(self,fullname):\n",
    "\t\tself.name = fullname\n",
    "\t\tprint(\"Adding new student to database..\")\n",
    "s1 = student(\"rajkoli\")\n",
    "print(s1.name)"
   ]
  },
  {
   "cell_type": "code",
   "execution_count": 7,
   "metadata": {},
   "outputs": [
    {
     "name": "stdout",
     "output_type": "stream",
     "text": [
      "Hello\n",
      "You are Good Boy \n"
     ]
    }
   ],
   "source": [
    "def hello():\n",
    "\tprint(\"Hello\")\n",
    "\tprint(\"You are Good Boy \")\n",
    "hello()\n",
    "# sales1 = 6000\n",
    "# profit1 = 2000\n",
    "# ad1= 1000\n",
    "\n",
    "# sales2 = 6000\n",
    "# profit2 = 2000\n",
    "# ad2= 1000\n",
    "\n",
    "# sales3 = 6000\n",
    "# profit3 = 2000\n",
    "# ad3 = 1000\n",
    "\n"
   ]
  },
  {
   "cell_type": "code",
   "execution_count": 14,
   "metadata": {},
   "outputs": [
    {
     "name": "stdout",
     "output_type": "stream",
     "text": [
      "Raj koli  is a Developer\n",
      "Pranav is a Softwarer Developer\n"
     ]
    }
   ],
   "source": [
    "class person:\n",
    "\tname= \"Harry\"\n",
    "\toccupation= \"Software Developer\"\n",
    "\tnetworth= 10 \n",
    "\tdef info(self) :\n",
    "\t print(f'{self.name} is a {self.occupation}')\n",
    "\t \n",
    "a = person()\n",
    "b = person()\n",
    "c = person()\n",
    "\n",
    "a.name=\"Raj koli \"\n",
    "a.occupation=\"Developer\"\n",
    "\n",
    "b.name=\"Pranav\"\n",
    "b.occupation=\"Softwarer Developer\"\n",
    "\n",
    "a.info()\n",
    "b.info()\n",
    "\n",
    "\n",
    "\n",
    "\n"
   ]
  },
  {
   "cell_type": "code",
   "execution_count": 2,
   "metadata": {},
   "outputs": [
    {
     "name": "stdout",
     "output_type": "stream",
     "text": [
      "Divya is a HR\n",
      "Divya is a HR\n"
     ]
    }
   ],
   "source": [
    "class Person:\n",
    "\t\tname= \"Harry\"\n",
    "\t\tocc= \"Developer\"\n",
    "\t\t\n",
    "\t\tdef info(self):\n",
    "\t\t\tprint(f'{self.name} is a {self.occ}')\n",
    "\t\t\n",
    "a = Person()\n",
    "a.name='Divya'\n",
    "a.occ=\"HR\"\n",
    "\n",
    "b= Person()\n",
    "b.name='Divya'\n",
    "b.occ=\"HR\"\n",
    "\n",
    "\n",
    "a.info()\n",
    "b.info()\n",
    "\t\t\n",
    "\t"
   ]
  },
  {
   "cell_type": "code",
   "execution_count": 23,
   "metadata": {},
   "outputs": [
    {
     "name": "stdout",
     "output_type": "stream",
     "text": [
      "The name is Divya and \n",
      " occ is HR\n"
     ]
    }
   ],
   "source": [
    "class person:\n",
    "\t\t\tn=\"name\"\n",
    "\t\t\tocc=\"Developer\"\n",
    "\t\t\tdef info(self):\n",
    "\t\t\t\tprint(f'The name is {self.n} and \\n occ is {self.occ}')\n",
    "a=person()\n",
    "a.n='Divya'\n",
    "a.occ=\"HR\"\n",
    "\n",
    "a.info()\n",
    "\n",
    "\n",
    "\t\t\t\t\n"
   ]
  },
  {
   "cell_type": "code",
   "execution_count": 7,
   "metadata": {},
   "outputs": [
    {
     "name": "stdout",
     "output_type": "stream",
     "text": [
      "faculty is:1\n",
      "faculty name:rajkoli\n",
      "faculty is:12345\n"
     ]
    }
   ],
   "source": [
    "class faculty:\n",
    "\tdef putdata(self):\n",
    "\t\tself.id = int(input(\"Enter faculty id:\"))\n",
    "\t\tself.name = (input(\"Enter name:\"))\n",
    "\t\tself.salary = (input(\"Enter faculty salary:\"))\n",
    "\t\n",
    "\tdef display(self):\n",
    "\t\tprint(f'faculty is:{self.id}')\n",
    "\t\tprint(f'faculty name:{self.name}')\n",
    "\t\tprint(f'faculty is:{self.salary}')\n",
    "a=faculty()\n",
    "a.putdata()\n",
    "a.display()\n",
    "\t"
   ]
  },
  {
   "cell_type": "code",
   "execution_count": 26,
   "metadata": {},
   "outputs": [
    {
     "name": "stdout",
     "output_type": "stream",
     "text": [
      "Initializing\n"
     ]
    }
   ],
   "source": [
    "class sample:\n",
    "\tdef __init__(self):\n",
    "\t\tprint(\"Initializing\")\n",
    "\tdef pr(self):\n",
    "\t\tprint(\"Sample class\")\n",
    "s1=sample()\n",
    "s1.pr()"
   ]
  },
  {
   "cell_type": "code",
   "execution_count": 30,
   "metadata": {},
   "outputs": [
    {
     "name": "stdout",
     "output_type": "stream",
     "text": [
      "Jhon \n",
      "32\n",
      "Sam \n",
      "34\n",
      "Rock \n",
      "30\n"
     ]
    }
   ],
   "source": [
    "class person:\n",
    "\tdef __init__(self,name,age):\n",
    "\t\tself.name = name\n",
    "\t\tself.age = age \n",
    "p1 = person(\"Jhon \",32)\n",
    "p2 = person(\"Sam \",34)\n",
    "p3 = person(\"Rock \",30)\n",
    "\n",
    "print(p1.name)\n",
    "print(p1.age)\n",
    "print(p2.name)\n",
    "print(p2.age)\n",
    "print(p3.name)\n",
    "print(p3.age)"
   ]
  },
  {
   "cell_type": "code",
   "execution_count": 26,
   "metadata": {},
   "outputs": [
    {
     "name": "stdout",
     "output_type": "stream",
     "text": [
      "Instance variable: Instance Level\n",
      "None\n",
      "Class variable: Class Level\n",
      "None\n",
      "I don't need any class or instance data.\n"
     ]
    }
   ],
   "source": [
    "class Example:\n",
    "\tclass_variable = \"Class Level\"\n",
    "\n",
    "\tdef __init__(self, instance_variable):\n",
    "\t\tself.instance_variable = instance_variable\n",
    "\t\n",
    "\t# Instance Method\n",
    "\tdef instance_method(self):\n",
    "\t\tprint (f\"Instance variable: {self.instance_variable}\")\n",
    "\n",
    "\t# Class Method\n",
    "\t@classmethod\n",
    "\tdef class_method(cls):\n",
    "\t\tprint(f\"Class variable: {cls.class_variable}\")\n",
    "\n",
    "\t# Static Method\n",
    "\t@staticmethod\n",
    "\tdef static_method():\n",
    "\t\treturn \"I don't need any class or instance data.\"\n",
    "\n",
    "# Usage:\n",
    "ex = Example(\"Instance Level\")\n",
    "\n",
    "# Instance method\n",
    "print(ex.instance_method())  # Output: Instance variable: Instance Level\n",
    "\n",
    "# Class method\n",
    "print(Example.class_method())  # Output: Class variable: Class Level\n",
    "\n",
    "# Static method\n",
    "print(Example.static_method())  # Output: I don't need any class or instance data.\n",
    "\n",
    "\n"
   ]
  },
  {
   "cell_type": "code",
   "execution_count": 33,
   "metadata": {},
   "outputs": [
    {
     "name": "stdout",
     "output_type": "stream",
     "text": [
      "Raj koli\n",
      "18\n",
      "145\n",
      "Elon musk\n",
      "Gaurav \n",
      "18\n",
      "146\n",
      "Elon musk\n"
     ]
    }
   ],
   "source": [
    "class student:\n",
    "\tdef __init__(self,name,age,id,cohort):\n",
    "\t\tself.name= name\n",
    "\t\tself.age= age\n",
    "\t\tself.id= id\n",
    "\t\tself.cohort= cohort\n",
    "stud1= student(\"Raj koli\" ,18, 145,\"Elon musk\")\n",
    "stud2 = student(\"Gaurav \" ,18,146,\"Elon musk\")\n",
    "\n",
    "print(stud1.name)\n",
    "print(stud1.age)\n",
    "print(stud1.id)\n",
    "print(stud1.cohort)\n",
    "print(stud2.name)\n",
    "print(stud2.age)\n",
    "print(stud2.id)\n",
    "print(stud2.cohort)\n",
    "\n",
    "\n",
    "\n",
    "\n"
   ]
  },
  {
   "cell_type": "code",
   "execution_count": 48,
   "metadata": {},
   "outputs": [
    {
     "name": "stdout",
     "output_type": "stream",
     "text": [
      "Faculty id : 1\n",
      "Faculty name : raj\n",
      "Faculty salary : 123.0\n",
      "Faculty id : 2\n",
      "Faculty name : koli\n",
      "Faculty salary : 1234.0\n"
     ]
    }
   ],
   "source": [
    "class faculty :\n",
    "\t\t\tdef __init__(self):\n",
    "\t\t\t\tself.id= int(input(\"Enter faculty id: \"))\n",
    "\t\t\t\tself.name= input(\"Enter name: \")\n",
    "\t\t\t\tself.salary = float(input(\"Enter faculty salary: \"))\n",
    "\t\t\t\t\t\n",
    "\t\t\tdef display(self):\n",
    "\t\t\t\t\t\t\t\tprint(\"Faculty id :\", self.id)\n",
    "\t\t\t\t\t\t\t\tprint(\"Faculty name :\", self.name)\n",
    "\t\t\t\t\t\t\t\tprint(\"Faculty salary :\", self.salary)\n",
    "a= faculty()\n",
    "\n",
    "b=faculty()\n",
    "\n",
    "a.display()\n",
    "\n",
    "b.display()\n",
    "\t\t"
   ]
  },
  {
   "cell_type": "code",
   "execution_count": 2,
   "metadata": {},
   "outputs": [
    {
     "name": "stdout",
     "output_type": "stream",
     "text": [
      "Faculty id : 1\n",
      "Faculty name : Varun\n",
      "Faculty salary : 10000\n",
      "Faculty id : 2\n",
      "Faculty name : Ranbir\n",
      "Faculty salary : 30000\n",
      "Faculty id : 3\n",
      "Faculty name : Virat\n",
      "Faculty salary : 400000\n"
     ]
    }
   ],
   "source": [
    "class faculty:\n",
    "\t\t\tdef __init__(self,a,b,c):\n",
    "\t\t\t\t\tself.id=a \n",
    "\t\t\t\t\tself.name=b\n",
    "\t\t\t\t\tself.salary=c\n",
    "\t\t\tdef display(self):\n",
    "\t\t\t\t\t\t\tprint(\"Faculty id :\", self.id)\n",
    "\t\t\t\t\t\t\tprint(\"Faculty name :\", self.name)\n",
    "\t\t\t\t\t\t\tprint(\"Faculty salary :\", self.salary)\n",
    "a=faculty(1,\"Varun\",10000)\n",
    "b=faculty(2,\"Ranbir\",30000)\n",
    "c=faculty(3,\"Virat\",400000)\n",
    "a.display()\n",
    "b.display()\n",
    "c.display()\n",
    "\n",
    "\n",
    "\t\t\t\t\t\t\t\t\t\t\t\t\t\n",
    " "
   ]
  },
  {
   "cell_type": "code",
   "execution_count": 10,
   "metadata": {},
   "outputs": [
    {
     "name": "stdout",
     "output_type": "stream",
     "text": [
      "Initially  111\n",
      "After Calling class Method 888\n",
      "After Calling class Method 999\n"
     ]
    }
   ],
   "source": [
    "class Test:\n",
    "\t\t\ta=111\n",
    "\t\t\t@classmethod\n",
    "\t\t\tdef m1(cls):\n",
    "\t\t\t\t\t\tcls.a = 888\n",
    "\t\t\t@staticmethod\n",
    "\t\t\tdef m2():\n",
    "\t\t\t\t\t\tTest.a=999\n",
    "print(\"Initially \",Test.a)\n",
    "Test.m1()\n",
    "print(\"After Calling class Method\", Test.a)\n",
    "Test.m2()\n",
    "print(\"After Calling class Method\", Test.a)\n",
    "\n"
   ]
  },
  {
   "cell_type": "markdown",
   "metadata": {},
   "source": [
    "\tSetter and Getter in python:\n",
    "\n",
    "\tsetter syntax:\n",
    "\tdef setVariable(self,variable)\n",
    "\t\t\t\t\t\t\tself.variable= variable\n",
    "\t\t\n",
    "Getter syntax:\n",
    "\t\tdef getVariable(self)\n",
    "\t\t\t\t\t\t\treturn self.variable\n"
   ]
  },
  {
   "cell_type": "code",
   "execution_count": 20,
   "metadata": {},
   "outputs": [
    {
     "name": "stdout",
     "output_type": "stream",
     "text": [
      "<bound method Calculation1.summation of <__main__.Derived object at 0x10641e270>>\n",
      "<bound method Calculation2.Multiplication of <__main__.Derived object at 0x10641e270>>\n",
      "<bound method Derived.divide of <__main__.Derived object at 0x10641e270>>\n"
     ]
    }
   ],
   "source": [
    "class Calculation1:\n",
    "    def summation(self,a,b):\n",
    "        return a+b;\n",
    "\n",
    "class Calculation2:\n",
    "    def Multiplication(self,a,b):\n",
    "        return a*b;\n",
    "class Derived(Calculation1, Calculation2):\n",
    "    def divide (self,a,b):\n",
    "        return a/b;\n",
    "d = Derived()\n",
    "print(d.summation)\n",
    "print(d.Multiplication)\n",
    "print(d.divide)\n",
    "\n",
    "    \n",
    "    \n",
    "    "
   ]
  },
  {
   "cell_type": "markdown",
   "metadata": {},
   "source": [
    "Files:\n",
    "\n",
    "opening the files in Python:\n",
    "f= open(filename, mode)"
   ]
  },
  {
   "cell_type": "code",
   "execution_count": 122,
   "metadata": {},
   "outputs": [],
   "source": [
    "f= open ('sample.txt','w')\n",
    "f.write(\"Hello World\")\n",
    "f.close()\n",
    "\n"
   ]
  },
  {
   "cell_type": "code",
   "execution_count": 123,
   "metadata": {},
   "outputs": [
    {
     "name": "stdout",
     "output_type": "stream",
     "text": [
      "Hello World\n"
     ]
    }
   ],
   "source": [
    "f= open('sample.txt','r')\n",
    "data = f.read()\n",
    "print(data)\n",
    "f.close()"
   ]
  },
  {
   "cell_type": "markdown",
   "metadata": {},
   "source": [
    "Closing the files in python :\n",
    "#Close()\n"
   ]
  },
  {
   "cell_type": "code",
   "execution_count": 130,
   "metadata": {},
   "outputs": [],
   "source": [
    "f= open(\"Test_File.txt\",'w')\n",
    "s= '''Hello Good Morning'''\n",
    "f.writelines(s)\n",
    "f.close()"
   ]
  },
  {
   "cell_type": "code",
   "execution_count": 131,
   "metadata": {},
   "outputs": [
    {
     "name": "stdout",
     "output_type": "stream",
     "text": [
      "Hello Good Morning\n"
     ]
    }
   ],
   "source": [
    "f=open(\"Test_File.txt\", \"r\")\n",
    "print(f.read())\n",
    "f.close()"
   ]
  },
  {
   "cell_type": "code",
   "execution_count": 139,
   "metadata": {},
   "outputs": [
    {
     "name": "stdout",
     "output_type": "stream",
     "text": [
      "Enter text , press * in the last line to terminate \n",
      "Hello World\n",
      "\n"
     ]
    }
   ],
   "source": [
    "f= open('sample1.txt','w')\n",
    "print(\"Enter text , press * in the last line to terminate \")\n",
    "\n",
    "s=\"\"\n",
    "while s !='*':\n",
    "    s= input()\n",
    "    if s != \"*\":\n",
    "        f.write(s+'\\n')\n",
    "f.close()\n",
    "f=open('sample1.txt','r')\n",
    "data=f.read()\n",
    "print(data)\n",
    "f.close()\n",
    "        "
   ]
  },
  {
   "cell_type": "code",
   "execution_count": 144,
   "metadata": {},
   "outputs": [
    {
     "name": "stdout",
     "output_type": "stream",
     "text": [
      "Apple\n",
      "Cherry\n",
      "Banana\n",
      "Graphes\n"
     ]
    }
   ],
   "source": [
    "f= open(\"Sample2.txt\",'w')\n",
    "list=['Apple\\n','Cherry\\n','Banana\\n','Graphes']\n",
    "f.writelines(list)\n",
    "f.close()\n",
    "f=open('sample2.txt','r')\n",
    "print(f.read())\n",
    "f.close()\n"
   ]
  },
  {
   "cell_type": "code",
   "execution_count": 148,
   "metadata": {},
   "outputs": [
    {
     "name": "stdout",
     "output_type": "stream",
     "text": [
      "<class 'str'>\n",
      "Apple\n",
      "Cherry\n",
      "\n"
     ]
    }
   ],
   "source": [
    "f= open(\"Sample2.txt\",'r')\n",
    "data=f.read(13)\n",
    "print(type(data))\n",
    "print(data)\n",
    "f.close()"
   ]
  },
  {
   "cell_type": "code",
   "execution_count": 150,
   "metadata": {},
   "outputs": [
    {
     "name": "stdout",
     "output_type": "stream",
     "text": [
      "Apple\n",
      "Cherry\n",
      "Banana\n"
     ]
    }
   ],
   "source": [
    "f= open(\"Sample2.txt\",'w')\n",
    "list=['Apple\\n','Cherry\\n','Banana\\n','Graphes']\n",
    "f.writelines(list)\n",
    "f=open('sample2.txt','r')\n",
    "line1=f.readline()\n",
    "print(line1,end=\"\")\n",
    "line2=f.readline()\n",
    "print(line2,end=\"\")\n",
    "line3=f.readline()\n",
    "print(line3,end=\"\")\n",
    "f.close()"
   ]
  },
  {
   "cell_type": "code",
   "execution_count": 152,
   "metadata": {},
   "outputs": [
    {
     "name": "stdout",
     "output_type": "stream",
     "text": [
      "['Apple\\n', 'Cherry\\n', 'Banana\\n', 'Graphes']\n",
      "Apple\n",
      "Cherry\n",
      "Banana\n",
      "Graphes"
     ]
    }
   ],
   "source": [
    "# Readline \n",
    "f=open('sample2.txt','r')\n",
    "lines=f.readlines()\n",
    "print(lines)\n",
    "for line in lines:\n",
    "    print(line,end='')\n",
    "f.close()\n"
   ]
  },
  {
   "cell_type": "code",
   "execution_count": 154,
   "metadata": {},
   "outputs": [
    {
     "name": "stdout",
     "output_type": "stream",
     "text": [
      "Welcome to the world of programming\n",
      "Happy Programming\n"
     ]
    }
   ],
   "source": [
    "# With Statement\n",
    "with open(\"With_file.txt\",\"w\") as f:\n",
    "    f.write(\"Welcome to the world of programming\\n\")\n",
    "    f.write(\"Happy Programming\")\n",
    "with open(\"With_file.txt\",'r') as f :\n",
    "    print(f.read())"
   ]
  },
  {
   "cell_type": "code",
   "execution_count": 155,
   "metadata": {},
   "outputs": [
    {
     "name": "stdout",
     "output_type": "stream",
     "text": [
      "Have a Nice Day\n",
      "The Current Cursor Position:  15\n",
      "The Current Cursor Position:  7\n",
      "Data After Modification: \n",
      "Have a Good Day\n"
     ]
    }
   ],
   "source": [
    "# seek() method\n",
    "data=\"Have a Nice Day\"\n",
    "f=open('abcd.txt','w')\n",
    "f.write(data)\n",
    "with open('abcd.txt','r+') as f:\n",
    "    text=f.read()\n",
    "    print(text)\n",
    "    print(\"The Current Cursor Position: \", f.tell())\n",
    "    f.seek(7)\n",
    "    print(\"The Current Cursor Position: \", f.tell())\n",
    "    f.write(\"Good\")\n",
    "    f.seek(0)\n",
    "    text=f.read()\n",
    "    print(\"Data After Modification: \")\n",
    "    print(text)\n",
    "    "
   ]
  },
  {
   "cell_type": "code",
   "execution_count": 159,
   "metadata": {},
   "outputs": [],
   "source": [
    "f= open ('Rplus_mode321.txt','w')\n",
    "f.write(\"Hello World\")\n",
    "f.close()\n",
    "\n"
   ]
  },
  {
   "cell_type": "code",
   "execution_count": 160,
   "metadata": {},
   "outputs": [
    {
     "name": "stdout",
     "output_type": "stream",
     "text": [
      "This is a sample file\n",
      "for r+ mode\n",
      "Overwritingample file\n",
      "for r+ mode\n"
     ]
    }
   ],
   "source": [
    "# r+ mode\n",
    "\n",
    "with open(\"Rplus_mode321.txt\",'r+') as f :\n",
    "    f.write(\"This is a sample file\\n\")\n",
    "    f.write('for r+ mode')\n",
    "    f.seek(0)\n",
    "    print(f.read())\n",
    "    f.seek(0)\n",
    "    f.write(\"Overwriting\")\n",
    "    f.seek(0)\n",
    "    print(f.read())"
   ]
  },
  {
   "cell_type": "code",
   "execution_count": 171,
   "metadata": {},
   "outputs": [
    {
     "name": "stdout",
     "output_type": "stream",
     "text": [
      "y should not be zero\n"
     ]
    }
   ],
   "source": [
    "# Exception Handling:\n",
    "\n",
    "# x,y=10,0\n",
    "# print(x/y)\n",
    "try: \n",
    "    x,y=10,0\n",
    "    print(x/y)\n",
    "except ZeroDivisionError :\n",
    "    print(\"y should not be zero\")\n"
   ]
  },
  {
   "cell_type": "code",
   "execution_count": 175,
   "metadata": {},
   "outputs": [
    {
     "name": "stdout",
     "output_type": "stream",
     "text": [
      "y should not be Zero: division by zero\n"
     ]
    }
   ],
   "source": [
    "# Try with multiple except blocks \n",
    "\n",
    "try:\n",
    "    x,y=input(\"Enter two number \").split()\n",
    "    x=int(x)\n",
    "    y=int(y)\n",
    "    print(x/y)\n",
    "except ZeroDivisionError as msg:\n",
    "    print(\"y should not be Zero:\", msg)\n",
    "except ValueError as msg:\n",
    "    print(\"Type inappropraite:\", msg)\n",
    "    \n",
    "\n",
    "    \n"
   ]
  },
  {
   "cell_type": "code",
   "execution_count": 176,
   "metadata": {},
   "outputs": [
    {
     "name": "stdout",
     "output_type": "stream",
     "text": [
      "Arithmetic: division by zero\n"
     ]
    }
   ],
   "source": [
    "# Multiple Excpet block sequence \n",
    "\n",
    "try:\n",
    "    x,y=input(\"Enter two number \").split()\n",
    "    x=int(x)\n",
    "    y=int(y)\n",
    "    print(x/y)\n",
    "except ArithmeticError as msg:\n",
    "    print(\"Arithmetic:\", msg)\n",
    "except ZeroDivisionError as msg:\n",
    "    print(\"y should not be zero:\", msg)"
   ]
  },
  {
   "cell_type": "code",
   "execution_count": 179,
   "metadata": {},
   "outputs": [
    {
     "name": "stdout",
     "output_type": "stream",
     "text": [
      "Other Errors\n"
     ]
    }
   ],
   "source": [
    "# Default except block\n",
    "\n",
    "try:\n",
    "    x,y= input(\"Enter two num\").split\n",
    "    x=int(x)\n",
    "    y=int(y)\n",
    "    print(x/y)\n",
    "    z= z%4\n",
    "    a=\"two\"+1\n",
    "except ZeroDivisionError as msg:\n",
    "    print(\"y should not be zero: \",msg)\n",
    "except ValueError as msg:\n",
    "    print(\"Type inapproiate: \",msg)\n",
    "except:\n",
    "    print(\"Other Errors\")\n",
    "    \n"
   ]
  },
  {
   "cell_type": "code",
   "execution_count": 184,
   "metadata": {},
   "outputs": [
    {
     "name": "stdout",
     "output_type": "stream",
     "text": [
      "division by zero\n"
     ]
    }
   ],
   "source": [
    "# Single except block can handle multiple exception:\n",
    "\n",
    "try:\n",
    "    x,y= input(\"Enter two num\").split()\n",
    "    x=int(x)\n",
    "    y=int(y)\n",
    "    print(x/y)\n",
    "except (ZeroDivisionError, ValueError) as msg:\n",
    "    print(msg)\n"
   ]
  },
  {
   "cell_type": "code",
   "execution_count": 186,
   "metadata": {},
   "outputs": [
    {
     "name": "stdout",
     "output_type": "stream",
     "text": [
      "try\n",
      "except\n",
      "finally\n"
     ]
    }
   ],
   "source": [
    "# Else block with try-except-finally\n",
    "\n",
    "try:\n",
    "    print(\"try\")\n",
    "    print(10/0)\n",
    "except:\n",
    "    print(\"except\")\n",
    "else:\n",
    "    print(\"else\")\n",
    "finally:\n",
    "    print(\"finally\")"
   ]
  },
  {
   "cell_type": "code",
   "execution_count": 193,
   "metadata": {},
   "outputs": [
    {
     "name": "stdout",
     "output_type": "stream",
     "text": [
      "odd\n",
      "even\n"
     ]
    }
   ],
   "source": [
    "evenodd= lambda x : 'odd' if x%2 else 'even'\n",
    "print(evenodd(5))\n",
    "print(evenodd(8))\n",
    "\n",
    "\n",
    "\n"
   ]
  },
  {
   "cell_type": "code",
   "execution_count": 195,
   "metadata": {},
   "outputs": [
    {
     "name": "stdout",
     "output_type": "stream",
     "text": [
      "The sum of 10,20 is:  30\n",
      "The sum of 100,200 is:  300\n"
     ]
    }
   ],
   "source": [
    "r=lambda a,b : a+b\n",
    "print(\"The sum of 10,20 is: \",r(10,20))\n",
    "print(\"The sum of 100,200 is: \",r(100,200))\n"
   ]
  },
  {
   "cell_type": "code",
   "execution_count": null,
   "metadata": {},
   "outputs": [],
   "source": []
  }
 ],
 "metadata": {
  "kernelspec": {
   "display_name": "Python 3",
   "language": "python",
   "name": "python3"
  },
  "language_info": {
   "codemirror_mode": {
    "name": "ipython",
    "version": 3
   },
   "file_extension": ".py",
   "mimetype": "text/x-python",
   "name": "python",
   "nbconvert_exporter": "python",
   "pygments_lexer": "ipython3",
   "version": "3.13.0"
  }
 },
 "nbformat": 4,
 "nbformat_minor": 2
}
